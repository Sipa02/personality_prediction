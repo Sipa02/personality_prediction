{
 "cells": [
  {
   "cell_type": "code",
   "execution_count": 1,
   "id": "01b69c83",
   "metadata": {},
   "outputs": [],
   "source": [
    "import tensorflow as tf\n",
    "import pandas as pd\n",
    "import requests\n",
    "import json\n",
    "import base64\n",
    "import os"
   ]
  },
  {
   "cell_type": "code",
   "execution_count": null,
   "id": "b94cc764",
   "metadata": {},
   "outputs": [],
   "source": [
    "def prepare_json(features: dict):\n",
    "    feature_spec = {}\n",
    "    for key, value in features.items():\n",
    "        if isinstance(value, str):\n",
    "            feature_spec[key] = tf.train.Feature(bytes_list=tf.train.BytesList(value=[bytes(value, \"utf-8\")]))\n",
    "        else:\n",
    "            feature_spec[key] = tf.train.Feature(float_list=tf.train.FloatList(value=[value]))\n",
    "    \n",
    "    example = tf.train.Example(\n",
    "        features=tf.train.Features(feature=feature_spec)\n",
    "    ).SerializeToString()\n",
    "    \n",
    "    result = [\n",
    "        {\n",
    "            \"examples\": {\n",
    "                \"b64\": base64.b64encode(example).decode()\n",
    "            }\n",
    "        }\n",
    "    ]\n",
    "    \n",
    "    return json.dumps({\n",
    "        \"signature_name\": \"serving_default\",\n",
    "        \"instances\": result\n",
    "    })"
   ]
  },
  {
   "cell_type": "code",
   "execution_count": 9,
   "id": "6fb49c4b",
   "metadata": {},
   "outputs": [],
   "source": [
    "def make_predictions(features: dict):\n",
    "    json_data = prepare_json(features)\n",
    "    \n",
    "    endpoint = \"https://personality-prediction-954b9eab1c9e.herokuapp.com/v1/models/personality-model:predict\"\n",
    "    response = requests.post(endpoint, data=json_data)\n",
    "    response.raise_for_status()\n",
    "\n",
    "    prediction = response.json()[\"predictions\"][0][0]\n",
    "    return \"Extrovert\" if prediction > 0.5 else \"Introvert\""
   ]
  },
  {
   "cell_type": "code",
   "execution_count": 10,
   "id": "17756cf3",
   "metadata": {},
   "outputs": [],
   "source": [
    "# Contoh input \n",
    "sample_features = {\n",
    "    \"Time_spent_Alone\": 4.0,\n",
    "    \"Stage_fear\": \"No\",\n",
    "    \"Social_event_attendance\": 4.0,\n",
    "    \"Going_outside\": 6.0,\n",
    "    \"Drained_after_socializing\": \"No\",\n",
    "    \"Friends_circle_size\": 13.0,\n",
    "    \"Post_frequency\": 5.0,\n",
    "}"
   ]
  },
  {
   "cell_type": "code",
   "execution_count": 11,
   "id": "c0196065",
   "metadata": {},
   "outputs": [
    {
     "data": {
      "text/plain": [
       "'Extrovert'"
      ]
     },
     "execution_count": 11,
     "metadata": {},
     "output_type": "execute_result"
    }
   ],
   "source": [
    "make_predictions(sample_features)"
   ]
  },
  {
   "cell_type": "code",
   "execution_count": null,
   "id": "2b917e99",
   "metadata": {},
   "outputs": [],
   "source": []
  }
 ],
 "metadata": {
  "kernelspec": {
   "display_name": "mlops2",
   "language": "python",
   "name": "python3"
  },
  "language_info": {
   "codemirror_mode": {
    "name": "ipython",
    "version": 3
   },
   "file_extension": ".py",
   "mimetype": "text/x-python",
   "name": "python",
   "nbconvert_exporter": "python",
   "pygments_lexer": "ipython3",
   "version": "3.9.15"
  }
 },
 "nbformat": 4,
 "nbformat_minor": 5
}
