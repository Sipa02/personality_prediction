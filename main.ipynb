{
 "cells": [
  {
   "cell_type": "markdown",
   "id": "bdb8ce69",
   "metadata": {},
   "source": [
    "### Import library yg dibutuhkan"
   ]
  },
  {
   "cell_type": "code",
   "execution_count": 1,
   "id": "12bc860b",
   "metadata": {},
   "outputs": [],
   "source": [
    "import os\n",
    "from tfx.orchestration.beam.beam_dag_runner import BeamDagRunner\n",
    "from modules import components, pipeline"
   ]
  },
  {
   "cell_type": "markdown",
   "id": "c5a92e01",
   "metadata": {},
   "source": [
    "### Set variabel"
   ]
  },
  {
   "cell_type": "code",
   "execution_count": null,
   "id": "a2974c27",
   "metadata": {},
   "outputs": [],
   "source": [
    "PIPELINE_NAME = \"syifa_azzahro_OkYd-pipeline\"\n",
    "\n",
    "# Pipeline inputs\n",
    "DATA_ROOT = \"data\"\n",
    "TRANSFORM_MODULE_FILE = \"modules/transform.py\"\n",
    "TUNER_MODULE_FILE = \"modules/tuner.py\"\n",
    "TRAINER_MODULE_FILE = \"modules/trainer.py\"\n",
    "\n",
    "# Pipeline outputs\n",
    "OUTPUT_BASE = \"outputs\"\n",
    "\n",
    "serving_model_dir = os.path.join(OUTPUT_BASE, \"serving_model\")\n",
    "pipeline_root = os.path.join(OUTPUT_BASE, PIPELINE_NAME)\n",
    "metadata_path = os.path.join(pipeline_root, \"metadata.sqlite\")"
   ]
  },
  {
   "cell_type": "markdown",
   "id": "34db0b2f",
   "metadata": {},
   "source": [
    "### Jalankan pipeline"
   ]
  },
  {
   "cell_type": "code",
   "execution_count": 4,
   "id": "52b95ac6",
   "metadata": {},
   "outputs": [
    {
     "name": "stdout",
     "output_type": "stream",
     "text": [
      "Trial 5 Complete [00h 00m 06s]\n",
      "binary_accuracy: 0.8882499933242798\n",
      "\n",
      "Best binary_accuracy So Far: 0.9160000085830688\n",
      "Total elapsed time: 00h 00m 34s\n",
      "INFO:tensorflow:Oracle triggered exit\n"
     ]
    },
    {
     "name": "stderr",
     "output_type": "stream",
     "text": [
      "INFO:tensorflow:Oracle triggered exit\n",
      "WARNING:absl:ArtifactQuery.property_predicate is not supported.\n",
      "WARNING:absl:ArtifactQuery.property_predicate is not supported.\n",
      "WARNING:absl:ArtifactQuery.property_predicate is not supported.\n",
      "WARNING:absl:ArtifactQuery.property_predicate is not supported.\n"
     ]
    },
    {
     "name": "stdout",
     "output_type": "stream",
     "text": [
      "Results summary\n",
      "Results in outputs\\personality-pipeline\\Tuner\\.system\\executor_execution\\139\\.temp\\139\\kt_randomsearch\n",
      "Showing 10 best trials\n",
      "Objective(name=\"binary_accuracy\", direction=\"max\")\n",
      "\n",
      "Trial 0 summary\n",
      "Hyperparameters:\n",
      "num_hidden_layers: 2\n",
      "dense_unit: 144\n",
      "dropout_rate: 0.2\n",
      "learning_rate: 0.001\n",
      "Score: 0.9160000085830688\n",
      "\n",
      "Trial 2 summary\n",
      "Hyperparameters:\n",
      "num_hidden_layers: 1\n",
      "dense_unit: 48\n",
      "dropout_rate: 0.5\n",
      "learning_rate: 0.01\n",
      "Score: 0.9144999980926514\n",
      "\n",
      "Trial 1 summary\n",
      "Hyperparameters:\n",
      "num_hidden_layers: 2\n",
      "dense_unit: 80\n",
      "dropout_rate: 0.30000000000000004\n",
      "learning_rate: 0.001\n",
      "Score: 0.9127500057220459\n",
      "\n",
      "Trial 3 summary\n",
      "Hyperparameters:\n",
      "num_hidden_layers: 3\n",
      "dense_unit: 240\n",
      "dropout_rate: 0.1\n",
      "learning_rate: 0.01\n",
      "Score: 0.9127500057220459\n",
      "\n",
      "Trial 4 summary\n",
      "Hyperparameters:\n",
      "num_hidden_layers: 1\n",
      "dense_unit: 80\n",
      "dropout_rate: 0.30000000000000004\n",
      "learning_rate: 0.0001\n",
      "Score: 0.8882499933242798\n"
     ]
    },
    {
     "name": "stderr",
     "output_type": "stream",
     "text": [
      "WARNING:absl:Examples artifact does not have payload_format custom property. Falling back to FORMAT_TF_EXAMPLE\n",
      "WARNING:absl:Examples artifact does not have payload_format custom property. Falling back to FORMAT_TF_EXAMPLE\n",
      "WARNING:absl:Examples artifact does not have payload_format custom property. Falling back to FORMAT_TF_EXAMPLE\n"
     ]
    },
    {
     "name": "stdout",
     "output_type": "stream",
     "text": [
      "Model: \"model_1\"\n",
      "__________________________________________________________________________________________________\n",
      " Layer (type)                   Output Shape         Param #     Connected to                     \n",
      "==================================================================================================\n",
      " Stage_fear_xf (InputLayer)     [(None, 3)]          0           []                               \n",
      "                                                                                                  \n",
      " Drained_after_socializing_xf (  [(None, 3)]         0           []                               \n",
      " InputLayer)                                                                                      \n",
      "                                                                                                  \n",
      " Time_spent_Alone_xf (InputLaye  [(None, 1)]         0           []                               \n",
      " r)                                                                                               \n",
      "                                                                                                  \n",
      " Social_event_attendance_xf (In  [(None, 1)]         0           []                               \n",
      " putLayer)                                                                                        \n",
      "                                                                                                  \n",
      " Going_outside_xf (InputLayer)  [(None, 1)]          0           []                               \n",
      "                                                                                                  \n",
      " Friends_circle_size_xf (InputL  [(None, 1)]         0           []                               \n",
      " ayer)                                                                                            \n",
      "                                                                                                  \n",
      " Post_frequency_xf (InputLayer)  [(None, 1)]         0           []                               \n",
      "                                                                                                  \n",
      " concatenate_1 (Concatenate)    (None, 11)           0           ['Stage_fear_xf[0][0]',          \n",
      "                                                                  'Drained_after_socializing_xf[0]\n",
      "                                                                 [0]',                            \n",
      "                                                                  'Time_spent_Alone_xf[0][0]',    \n",
      "                                                                  'Social_event_attendance_xf[0][0\n",
      "                                                                 ]',                              \n",
      "                                                                  'Going_outside_xf[0][0]',       \n",
      "                                                                  'Friends_circle_size_xf[0][0]', \n",
      "                                                                  'Post_frequency_xf[0][0]']      \n",
      "                                                                                                  \n",
      " dense_3 (Dense)                (None, 144)          1728        ['concatenate_1[0][0]']          \n",
      "                                                                                                  \n",
      " dense_4 (Dense)                (None, 144)          20880       ['dense_3[0][0]']                \n",
      "                                                                                                  \n",
      " dropout_1 (Dropout)            (None, 144)          0           ['dense_4[0][0]']                \n",
      "                                                                                                  \n",
      " dense_5 (Dense)                (None, 144)          20880       ['dropout_1[0][0]']              \n",
      "                                                                                                  \n",
      " dropout_2 (Dropout)            (None, 144)          0           ['dense_5[0][0]']                \n",
      "                                                                                                  \n",
      " dense_6 (Dense)                (None, 1)            145         ['dropout_2[0][0]']              \n",
      "                                                                                                  \n",
      "==================================================================================================\n",
      "Total params: 43,633\n",
      "Trainable params: 43,633\n",
      "Non-trainable params: 0\n",
      "__________________________________________________________________________________________________\n",
      "Epoch 1/5\n",
      "793/800 [============================>.] - ETA: 0s - loss: 0.2761 - binary_accuracy: 0.9154\n",
      "Epoch 1: val_binary_accuracy improved from -inf to 0.90805, saving model to outputs\\personality-pipeline\\Trainer\\model\\140\\Format-Serving\n"
     ]
    },
    {
     "name": "stderr",
     "output_type": "stream",
     "text": [
      "WARNING:absl:Function `_wrapped_model` contains input name(s) Stage_fear_xf, Drained_after_socializing_xf, Time_spent_Alone_xf, Social_event_attendance_xf, Going_outside_xf, Friends_circle_size_xf, Post_frequency_xf with unsupported characters which will be renamed to stage_fear_xf, drained_after_socializing_xf, time_spent_alone_xf, social_event_attendance_xf, going_outside_xf, friends_circle_size_xf, post_frequency_xf in the SavedModel.\n"
     ]
    },
    {
     "name": "stdout",
     "output_type": "stream",
     "text": [
      "INFO:tensorflow:Assets written to: outputs\\personality-pipeline\\Trainer\\model\\140\\Format-Serving\\assets\n"
     ]
    },
    {
     "name": "stderr",
     "output_type": "stream",
     "text": [
      "INFO:tensorflow:Assets written to: outputs\\personality-pipeline\\Trainer\\model\\140\\Format-Serving\\assets\n"
     ]
    },
    {
     "name": "stdout",
     "output_type": "stream",
     "text": [
      "800/800 [==============================] - 7s 8ms/step - loss: 0.2752 - binary_accuracy: 0.9156 - val_loss: 0.3303 - val_binary_accuracy: 0.9080\n",
      "Epoch 2/5\n",
      "792/800 [============================>.] - ETA: 0s - loss: 0.2574 - binary_accuracy: 0.9164\n",
      "Epoch 2: val_binary_accuracy did not improve from 0.90805\n",
      "800/800 [==============================] - 6s 7ms/step - loss: 0.2573 - binary_accuracy: 0.9163 - val_loss: 0.3134 - val_binary_accuracy: 0.9080\n",
      "Epoch 3/5\n",
      "796/800 [============================>.] - ETA: 0s - loss: 0.2501 - binary_accuracy: 0.9164\n",
      "Epoch 3: val_binary_accuracy did not improve from 0.90805\n",
      "800/800 [==============================] - 5s 7ms/step - loss: 0.2502 - binary_accuracy: 0.9163 - val_loss: 0.3158 - val_binary_accuracy: 0.9080\n",
      "Epoch 4/5\n",
      "797/800 [============================>.] - ETA: 0s - loss: 0.2436 - binary_accuracy: 0.9169\n",
      "Epoch 4: val_binary_accuracy did not improve from 0.90805\n",
      "800/800 [==============================] - 5s 7ms/step - loss: 0.2436 - binary_accuracy: 0.9169 - val_loss: 0.3167 - val_binary_accuracy: 0.9080\n",
      "Epoch 5/5\n",
      "795/800 [============================>.] - ETA: 0s - loss: 0.2421 - binary_accuracy: 0.9167\n",
      "Epoch 5: val_binary_accuracy did not improve from 0.90805\n",
      "800/800 [==============================] - 5s 7ms/step - loss: 0.2419 - binary_accuracy: 0.9168 - val_loss: 0.3225 - val_binary_accuracy: 0.9080\n",
      "INFO:tensorflow:struct2tensor is not available.\n"
     ]
    },
    {
     "name": "stderr",
     "output_type": "stream",
     "text": [
      "INFO:tensorflow:struct2tensor is not available.\n"
     ]
    },
    {
     "name": "stdout",
     "output_type": "stream",
     "text": [
      "INFO:tensorflow:tensorflow_decision_forests is not available.\n"
     ]
    },
    {
     "name": "stderr",
     "output_type": "stream",
     "text": [
      "INFO:tensorflow:tensorflow_decision_forests is not available.\n"
     ]
    },
    {
     "name": "stdout",
     "output_type": "stream",
     "text": [
      "INFO:tensorflow:tensorflow_text is not available.\n"
     ]
    },
    {
     "name": "stderr",
     "output_type": "stream",
     "text": [
      "INFO:tensorflow:tensorflow_text is not available.\n"
     ]
    },
    {
     "name": "stdout",
     "output_type": "stream",
     "text": [
      "INFO:tensorflow:Assets written to: outputs\\personality-pipeline\\Trainer\\model\\140\\Format-Serving\\assets\n"
     ]
    },
    {
     "name": "stderr",
     "output_type": "stream",
     "text": [
      "INFO:tensorflow:Assets written to: outputs\\personality-pipeline\\Trainer\\model\\140\\Format-Serving\\assets\n",
      "WARNING:absl:ArtifactQuery.property_predicate is not supported.\n",
      "WARNING:absl:ArtifactQuery.property_predicate is not supported.\n"
     ]
    },
    {
     "name": "stdout",
     "output_type": "stream",
     "text": [
      "WARNING:tensorflow:Inconsistent references when loading the checkpoint into this object graph. For example, in the saved checkpoint object, `model.layer.weight` and `model.layer_copy.weight` reference the same variable, while in the current object these are two different variables. The referenced variables are:(<keras.saving.saved_model.load.TensorFlowTransform>TransformFeaturesLayer object at 0x00000290D973A9A0> and <keras.engine.input_layer.InputLayer object at 0x0000028FFB989A90>).\n"
     ]
    },
    {
     "name": "stderr",
     "output_type": "stream",
     "text": [
      "WARNING:tensorflow:Inconsistent references when loading the checkpoint into this object graph. For example, in the saved checkpoint object, `model.layer.weight` and `model.layer_copy.weight` reference the same variable, while in the current object these are two different variables. The referenced variables are:(<keras.saving.saved_model.load.TensorFlowTransform>TransformFeaturesLayer object at 0x00000290D973A9A0> and <keras.engine.input_layer.InputLayer object at 0x0000028FFB989A90>).\n"
     ]
    },
    {
     "name": "stdout",
     "output_type": "stream",
     "text": [
      "WARNING:tensorflow:Inconsistent references when loading the checkpoint into this object graph. For example, in the saved checkpoint object, `model.layer.weight` and `model.layer_copy.weight` reference the same variable, while in the current object these are two different variables. The referenced variables are:(<keras.saving.saved_model.load.TensorFlowTransform>TransformFeaturesLayer object at 0x00000290D94BEB50> and <keras.engine.input_layer.InputLayer object at 0x0000028FFCC47E80>).\n"
     ]
    },
    {
     "name": "stderr",
     "output_type": "stream",
     "text": [
      "WARNING:tensorflow:Inconsistent references when loading the checkpoint into this object graph. For example, in the saved checkpoint object, `model.layer.weight` and `model.layer_copy.weight` reference the same variable, while in the current object these are two different variables. The referenced variables are:(<keras.saving.saved_model.load.TensorFlowTransform>TransformFeaturesLayer object at 0x00000290D94BEB50> and <keras.engine.input_layer.InputLayer object at 0x0000028FFCC47E80>).\n"
     ]
    },
    {
     "name": "stdout",
     "output_type": "stream",
     "text": [
      "WARNING:tensorflow:Inconsistent references when loading the checkpoint into this object graph. For example, in the saved checkpoint object, `model.layer.weight` and `model.layer_copy.weight` reference the same variable, while in the current object these are two different variables. The referenced variables are:(<keras.saving.saved_model.load.TensorFlowTransform>TransformFeaturesLayer object at 0x00000290D9143F10> and <keras.engine.input_layer.InputLayer object at 0x00000290D92BF8B0>).\n"
     ]
    },
    {
     "name": "stderr",
     "output_type": "stream",
     "text": [
      "WARNING:tensorflow:Inconsistent references when loading the checkpoint into this object graph. For example, in the saved checkpoint object, `model.layer.weight` and `model.layer_copy.weight` reference the same variable, while in the current object these are two different variables. The referenced variables are:(<keras.saving.saved_model.load.TensorFlowTransform>TransformFeaturesLayer object at 0x00000290D9143F10> and <keras.engine.input_layer.InputLayer object at 0x00000290D92BF8B0>).\n"
     ]
    },
    {
     "name": "stdout",
     "output_type": "stream",
     "text": [
      "WARNING:tensorflow:Inconsistent references when loading the checkpoint into this object graph. For example, in the saved checkpoint object, `model.layer.weight` and `model.layer_copy.weight` reference the same variable, while in the current object these are two different variables. The referenced variables are:(<keras.saving.saved_model.load.TensorFlowTransform>TransformFeaturesLayer object at 0x0000028FFB996700> and <keras.engine.input_layer.InputLayer object at 0x0000028FFC143550>).\n"
     ]
    },
    {
     "name": "stderr",
     "output_type": "stream",
     "text": [
      "WARNING:tensorflow:Inconsistent references when loading the checkpoint into this object graph. For example, in the saved checkpoint object, `model.layer.weight` and `model.layer_copy.weight` reference the same variable, while in the current object these are two different variables. The referenced variables are:(<keras.saving.saved_model.load.TensorFlowTransform>TransformFeaturesLayer object at 0x0000028FFB996700> and <keras.engine.input_layer.InputLayer object at 0x0000028FFC143550>).\n"
     ]
    },
    {
     "name": "stdout",
     "output_type": "stream",
     "text": [
      "WARNING:tensorflow:Inconsistent references when loading the checkpoint into this object graph. For example, in the saved checkpoint object, `model.layer.weight` and `model.layer_copy.weight` reference the same variable, while in the current object these are two different variables. The referenced variables are:(<keras.saving.saved_model.load.TensorFlowTransform>TransformFeaturesLayer object at 0x0000028FFC0E93D0> and <keras.engine.input_layer.InputLayer object at 0x0000028FFC143A60>).\n"
     ]
    },
    {
     "name": "stderr",
     "output_type": "stream",
     "text": [
      "WARNING:tensorflow:Inconsistent references when loading the checkpoint into this object graph. For example, in the saved checkpoint object, `model.layer.weight` and `model.layer_copy.weight` reference the same variable, while in the current object these are two different variables. The referenced variables are:(<keras.saving.saved_model.load.TensorFlowTransform>TransformFeaturesLayer object at 0x0000028FFC0E93D0> and <keras.engine.input_layer.InputLayer object at 0x0000028FFC143A60>).\n"
     ]
    },
    {
     "name": "stdout",
     "output_type": "stream",
     "text": [
      "WARNING:tensorflow:Inconsistent references when loading the checkpoint into this object graph. For example, in the saved checkpoint object, `model.layer.weight` and `model.layer_copy.weight` reference the same variable, while in the current object these are two different variables. The referenced variables are:(<keras.saving.saved_model.load.TensorFlowTransform>TransformFeaturesLayer object at 0x00000290DFB642B0> and <keras.engine.input_layer.InputLayer object at 0x00000290DFCA3820>).\n"
     ]
    },
    {
     "name": "stderr",
     "output_type": "stream",
     "text": [
      "WARNING:tensorflow:Inconsistent references when loading the checkpoint into this object graph. For example, in the saved checkpoint object, `model.layer.weight` and `model.layer_copy.weight` reference the same variable, while in the current object these are two different variables. The referenced variables are:(<keras.saving.saved_model.load.TensorFlowTransform>TransformFeaturesLayer object at 0x00000290DFB642B0> and <keras.engine.input_layer.InputLayer object at 0x00000290DFCA3820>).\n"
     ]
    },
    {
     "name": "stdout",
     "output_type": "stream",
     "text": [
      "WARNING:tensorflow:Inconsistent references when loading the checkpoint into this object graph. For example, in the saved checkpoint object, `model.layer.weight` and `model.layer_copy.weight` reference the same variable, while in the current object these are two different variables. The referenced variables are:(<keras.saving.saved_model.load.TensorFlowTransform>TransformFeaturesLayer object at 0x00000290E25E6F10> and <keras.engine.input_layer.InputLayer object at 0x00000290E264B340>).\n"
     ]
    },
    {
     "name": "stderr",
     "output_type": "stream",
     "text": [
      "WARNING:tensorflow:Inconsistent references when loading the checkpoint into this object graph. For example, in the saved checkpoint object, `model.layer.weight` and `model.layer_copy.weight` reference the same variable, while in the current object these are two different variables. The referenced variables are:(<keras.saving.saved_model.load.TensorFlowTransform>TransformFeaturesLayer object at 0x00000290E25E6F10> and <keras.engine.input_layer.InputLayer object at 0x00000290E264B340>).\n"
     ]
    },
    {
     "name": "stdout",
     "output_type": "stream",
     "text": [
      "WARNING:tensorflow:Inconsistent references when loading the checkpoint into this object graph. For example, in the saved checkpoint object, `model.layer.weight` and `model.layer_copy.weight` reference the same variable, while in the current object these are two different variables. The referenced variables are:(<keras.saving.saved_model.load.TensorFlowTransform>TransformFeaturesLayer object at 0x00000290E2B5B9A0> and <keras.engine.input_layer.InputLayer object at 0x00000290E29D44F0>).\n"
     ]
    },
    {
     "name": "stderr",
     "output_type": "stream",
     "text": [
      "WARNING:tensorflow:Inconsistent references when loading the checkpoint into this object graph. For example, in the saved checkpoint object, `model.layer.weight` and `model.layer_copy.weight` reference the same variable, while in the current object these are two different variables. The referenced variables are:(<keras.saving.saved_model.load.TensorFlowTransform>TransformFeaturesLayer object at 0x00000290E2B5B9A0> and <keras.engine.input_layer.InputLayer object at 0x00000290E29D44F0>).\n"
     ]
    },
    {
     "name": "stdout",
     "output_type": "stream",
     "text": [
      "WARNING:tensorflow:From c:\\Users\\spect\\anaconda3\\envs\\mlops2\\lib\\site-packages\\tensorflow_model_analysis\\writers\\metrics_plots_and_validations_writer.py:110: tf_record_iterator (from tensorflow.python.lib.io.tf_record) is deprecated and will be removed in a future version.\n",
      "Instructions for updating:\n",
      "Use eager execution and: \n",
      "`tf.data.TFRecordDataset(path)`\n"
     ]
    },
    {
     "name": "stderr",
     "output_type": "stream",
     "text": [
      "WARNING:tensorflow:From c:\\Users\\spect\\anaconda3\\envs\\mlops2\\lib\\site-packages\\tensorflow_model_analysis\\writers\\metrics_plots_and_validations_writer.py:110: tf_record_iterator (from tensorflow.python.lib.io.tf_record) is deprecated and will be removed in a future version.\n",
      "Instructions for updating:\n",
      "Use eager execution and: \n",
      "`tf.data.TFRecordDataset(path)`\n",
      "WARNING:absl:ArtifactQuery.property_predicate is not supported.\n",
      "WARNING:absl:ArtifactQuery.property_predicate is not supported.\n"
     ]
    }
   ],
   "source": [
    "components_args = {\n",
    "    \"data_dir\": DATA_ROOT,\n",
    "    \"training_module\": TRAINER_MODULE_FILE,\n",
    "    \"tuner_module\": TUNER_MODULE_FILE,\n",
    "    \"transform_module\": TRANSFORM_MODULE_FILE,\n",
    "    \"training_steps\": 800,\n",
    "    \"eval_steps\": 400,\n",
    "    \"serving_model_dir\": serving_model_dir,\n",
    "}\n",
    "\n",
    "component_list = components.init_components(**components_args)\n",
    "\n",
    "pipeline = pipeline.init_pipeline(\n",
    "    pipeline_root,\n",
    "    PIPELINE_NAME,\n",
    "    metadata_path,\n",
    "    component_list,\n",
    ")\n",
    "\n",
    "BeamDagRunner().run(pipeline)\n"
   ]
  }
 ],
 "metadata": {
  "kernelspec": {
   "display_name": "mlops2",
   "language": "python",
   "name": "python3"
  },
  "language_info": {
   "codemirror_mode": {
    "name": "ipython",
    "version": 3
   },
   "file_extension": ".py",
   "mimetype": "text/x-python",
   "name": "python",
   "nbconvert_exporter": "python",
   "pygments_lexer": "ipython3",
   "version": "3.9.15"
  }
 },
 "nbformat": 4,
 "nbformat_minor": 5
}
